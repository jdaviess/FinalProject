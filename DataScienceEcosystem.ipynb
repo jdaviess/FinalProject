{
 "cells": [
  {
   "cell_type": "markdown",
   "id": "b543d0f4-6874-4502-a635-d91117c8dc17",
   "metadata": {},
   "source": [
    "Data Science Tools and Ecosystem"
   ]
  },
  {
   "cell_type": "markdown",
   "id": "d7dba36f-730a-40fd-a23e-65775e0849ee",
   "metadata": {},
   "source": [
    "In this notebook, Data Science Tools and Ecosystem are summarized."
   ]
  },
  {
   "cell_type": "markdown",
   "id": "139e081f-d951-4446-ba75-f99d65abc380",
   "metadata": {},
   "source": [
    "Some of the popular languages that Data Scientists use are:\n",
    "1. Python\n",
    "2. R\n",
    "3. Java\n",
    "4. SQL\n",
    "5. Julia\n",
    "6. Scala"
   ]
  },
  {
   "cell_type": "markdown",
   "id": "42fd6924-c7cf-4c07-9040-fdc7572b4b82",
   "metadata": {},
   "source": [
    "Some of the commonly used libraries used by Data Scientists include:\n",
    "1. Pandas\n",
    "2. NumPy\n",
    "3. Scikit-Learn\n",
    "4. Keras\n",
    "5. Matplotlib\n",
    "6. Seaborn\n",
    "7. Tensorflow\n",
    "8. PyTorch"
   ]
  },
  {
   "cell_type": "markdown",
   "id": "2804e13b-90c9-435f-9dce-1cfe9426f570",
   "metadata": {},
   "source": [
    "|Data Science Tools|\n",
    "|------|\n",
    "|Cognos Dashboard|\n",
    "|Watson Studio|\n",
    "|Jupyter|\n",
    "|RStudio|"
   ]
  },
  {
   "cell_type": "markdown",
   "id": "946c661b-f6cc-4097-b656-951b4d193b9c",
   "metadata": {},
   "source": [
    "### Below are a few examples of evaluating arithmetic expressions in Python."
   ]
  },
  {
   "cell_type": "code",
   "execution_count": 21,
   "id": "65ed43cc-d501-47ee-939e-a1a479f1b7c3",
   "metadata": {},
   "outputs": [
    {
     "data": {
      "text/plain": [
       "17"
      ]
     },
     "execution_count": 21,
     "metadata": {},
     "output_type": "execute_result"
    }
   ],
   "source": [
    "# This is a sample of arithmetic expression to multiply then add integers.\n",
    "(3*4)+5"
   ]
  },
  {
   "cell_type": "code",
   "execution_count": 31,
   "id": "1f5409ac-ebfa-4b89-a6d5-64adbed2a186",
   "metadata": {},
   "outputs": [
    {
     "data": {
      "text/plain": [
       "3.3333333333333335"
      ]
     },
     "execution_count": 31,
     "metadata": {},
     "output_type": "execute_result"
    }
   ],
   "source": [
    "# This will convert 200 minutes into hours by dividing by 60\n",
    "200/60"
   ]
  },
  {
   "cell_type": "markdown",
   "id": "8b7a57f0-b1b2-480c-ba97-df11e9f80800",
   "metadata": {},
   "source": [
    "**Objectives:**\n",
    "- languages of Data Science\n",
    "- libraries, APIs, Datasets, and Models\n",
    "- Data Science Tools\n",
    "- - Jupyter Notebook\n",
    "  - RStudio\n",
    "  - Github\n",
    "  - Apache Spark\n",
    "  - Watson Studio\n"
   ]
  },
  {
   "cell_type": "markdown",
   "id": "032967c0-a4ce-499b-b6dc-3d714c375cff",
   "metadata": {},
   "source": [
    "## Author\n",
    "Jamie Daviess"
   ]
  },
  {
   "cell_type": "code",
   "execution_count": null,
   "id": "1756deda-7c52-4ed9-8701-3a11a92ebee3",
   "metadata": {},
   "outputs": [],
   "source": []
  }
 ],
 "metadata": {
  "kernelspec": {
   "display_name": "Python 3 (ipykernel)",
   "language": "python",
   "name": "python3"
  },
  "language_info": {
   "codemirror_mode": {
    "name": "ipython",
    "version": 3
   },
   "file_extension": ".py",
   "mimetype": "text/x-python",
   "name": "python",
   "nbconvert_exporter": "python",
   "pygments_lexer": "ipython3",
   "version": "3.12.4"
  }
 },
 "nbformat": 4,
 "nbformat_minor": 5
}
